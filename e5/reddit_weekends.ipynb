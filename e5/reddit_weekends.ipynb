{
 "cells": [
  {
   "cell_type": "code",
   "execution_count": 1,
   "metadata": {},
   "outputs": [],
   "source": [
    "import numpy as np\n",
    "import pandas as pd\n",
    "import matplotlib.pyplot as plt\n",
    "import sys\n",
    "import datetime\n",
    "from scipy import stats"
   ]
  },
  {
   "cell_type": "code",
   "execution_count": 2,
   "metadata": {},
   "outputs": [],
   "source": [
    "filename = sys.argv[1]\n",
    "# filename = 'reddit-counts.json.gz'\n",
    "\n",
    "counts = pd.read_json(filename, lines=True)\n",
    "\n",
    "counts = counts.loc[((counts['date'].dt.year == 2012) | (counts['date'].dt.year == 2013))&(counts['subreddit'] == 'canada')].reset_index(drop = True)\n",
    "# print(counts)"
   ]
  },
  {
   "cell_type": "code",
   "execution_count": 3,
   "metadata": {},
   "outputs": [],
   "source": [
    "def check_weekend(date):\n",
    "    return date.weekday()\n",
    "# check_weekend = np.vectorize(check_weekend)"
   ]
  },
  {
   "cell_type": "code",
   "execution_count": 4,
   "metadata": {},
   "outputs": [],
   "source": [
    "counts['weekday'] = counts['date'].apply(check_weekend)\n",
    "# print(counts)"
   ]
  },
  {
   "cell_type": "code",
   "execution_count": 5,
   "metadata": {},
   "outputs": [],
   "source": [
    "weekday = counts.loc[(counts['weekday'] != 5) & (counts['weekday'] != 6)].reset_index(drop = True)\n",
    "# print(weekday)"
   ]
  },
  {
   "cell_type": "code",
   "execution_count": 6,
   "metadata": {},
   "outputs": [],
   "source": [
    "weekend = counts.loc[(counts['weekday'] == 5) | (counts['weekday'] == 6)].reset_index(drop = True)\n",
    "# print(weekend)"
   ]
  },
  {
   "cell_type": "code",
   "execution_count": 7,
   "metadata": {},
   "outputs": [],
   "source": [
    "ttest_pvalue = stats.ttest_ind(weekday['comment_count'], weekend['comment_count']).pvalue\n",
    "# print(ttest_pvalue)\n",
    "# ttest_pvalue = 1.3005502847207912e-58\n",
    "\n",
    "normal_weekday = stats.normaltest(weekday['comment_count']).pvalue\n",
    "normal_weekend = stats.normaltest(weekend['comment_count']).pvalue\n",
    "# print(normal_weekday)\n",
    "# print(normal_weekend)\n",
    "\n",
    "# normal_weekday = 1.0091137251707994e-07\n",
    "# normal_weekend = 0.0015209196859635404\n",
    "# not normally distributed "
   ]
  },
  {
   "cell_type": "code",
   "execution_count": 8,
   "metadata": {},
   "outputs": [],
   "source": [
    "levene_pvalue = stats.levene(weekday['comment_count'], weekend['comment_count']).pvalue\n",
    "# print(levene_pvalue)\n",
    "      \n",
    "# levene_pvalue = 0.04378740989202803\n",
    "# Reject, there is no equal variance"
   ]
  },
  {
   "cell_type": "markdown",
   "metadata": {},
   "source": [
    "# Fix 1:"
   ]
  },
  {
   "cell_type": "code",
   "execution_count": 9,
   "metadata": {},
   "outputs": [
    {
     "data": {
      "text/plain": [
       "(array([10., 26., 37., 44., 31., 27., 16.,  8.,  6.,  4.]),\n",
       " array([ 619. ,  782.5,  946. , 1109.5, 1273. , 1436.5, 1600. , 1763.5,\n",
       "        1927. , 2090.5, 2254. ]),\n",
       " <a list of 10 Patch objects>)"
      ]
     },
     "execution_count": 9,
     "metadata": {},
     "output_type": "execute_result"
    },
    {
     "data": {
      "image/png": "[encoded data removed]",
      "text/plain": [
       "<Figure size 432x288 with 1 Axes>"
      ]
     },
     "metadata": {
      "needs_background": "light"
     },
     "output_type": "display_data"
    }
   ],
   "source": [
    "plt.hist(weekday['comment_count'], facecolor='blue', alpha=0.5)\n",
    "plt.hist(weekend['comment_count'], facecolor='red', alpha=0.5)\n",
    "# plt.show()"
   ]
  },
  {
   "cell_type": "code",
   "execution_count": 10,
   "metadata": {},
   "outputs": [
    {
     "data": {
      "image/png": "[encoded data removed]",
      "text/plain": [
       "<Figure size 432x288 with 1 Axes>"
      ]
     },
     "metadata": {
      "needs_background": "light"
     },
     "output_type": "display_data"
    }
   ],
   "source": [
    "log_weekday = np.log(weekday['comment_count'])\n",
    "log_weekend = np.log(weekend['comment_count'])\n",
    "plt.hist(log_weekday, facecolor='blue', alpha=0.5)\n",
    "plt.hist(log_weekend, facecolor='red', alpha=0.5)\n",
    "# plt.show()\n",
    "log_normal_weekday = stats.normaltest(log_weekday).pvalue # 0.00040159142006827235\n",
    "log_normal_weekend = stats.normaltest(log_weekend).pvalue # 0.31493886820667\n",
    "log_levene = stats.levene(log_weekday, log_weekend).pvalue # 0.0004190759393372205\n",
    "# print(log_normal_weekday)\n",
    "# print(log_normal_weekend)\n",
    "# print(log_levene)"
   ]
  },
  {
   "cell_type": "code",
   "execution_count": 11,
   "metadata": {},
   "outputs": [],
   "source": [
    "# exp_weekday = np.exp(weekday['comment_count'])\n",
    "# exp_weekend = np.exp(weekend['comment_count'])\n",
    "# print(exp_weekday)\n",
    "# print(exp_weekend)\n",
    "# plt.hist(exp_weekday, facecolor='blue', alpha=0.5)\n",
    "# plt.hist(exp_weekend, facecolor='red', alpha=0.5)\n",
    "# plt.show()\n",
    "# exp_normal_weekday = stats.normaltest(exp_weekday).pvalue\n",
    "# exp_normal_weekend = stats.normaltest(exp_weekend).pvalue\n",
    "# exp_levene = stats.levene(exp_weekday, exp_weekend).pvalue\n",
    "# print(exp_normal_weekday)\n",
    "# print(exp_normal_weekend)\n",
    "# print(exp_levene)\n",
    "\n",
    "# Cannot create the histogram, since exp_weekday and exp_weekend are INF."
   ]
  },
  {
   "cell_type": "code",
   "execution_count": 12,
   "metadata": {},
   "outputs": [
    {
     "data": {
      "image/png": "[encoded data removed]",
      "text/plain": [
       "<Figure size 432x288 with 1 Axes>"
      ]
     },
     "metadata": {
      "needs_background": "light"
     },
     "output_type": "display_data"
    }
   ],
   "source": [
    "sqrt_weekday = np.sqrt(weekday['comment_count'])\n",
    "sqrt_weekend = np.sqrt(weekend['comment_count'])\n",
    "plt.hist(sqrt_weekday, facecolor='blue', alpha=0.5)\n",
    "plt.hist(sqrt_weekend, facecolor='red', alpha=0.5)\n",
    "# plt.show()\n",
    "sqrt_normal_weekday = stats.normaltest(sqrt_weekday).pvalue # 0.03687221613365365\n",
    "sqrt_normal_weekend = stats.normaltest(sqrt_weekend).pvalue # 0.10760562894666933\n",
    "sqrt_levene = stats.levene(sqrt_weekday, sqrt_weekend).pvalue # 0.5560544297516696\n",
    "# print(sqrt_normal_weekday)\n",
    "# print(sqrt_normal_weekend)\n",
    "# print(sqrt_levene)"
   ]
  },
  {
   "cell_type": "code",
   "execution_count": 13,
   "metadata": {},
   "outputs": [
    {
     "data": {
      "image/png": "[encoded data removed]",
      "text/plain": [
       "<Figure size 432x288 with 1 Axes>"
      ]
     },
     "metadata": {
      "needs_background": "light"
     },
     "output_type": "display_data"
    }
   ],
   "source": [
    "e2_weekday = (weekday['comment_count']) ** 2\n",
    "e2_weekend = (weekend['comment_count']) ** 2\n",
    "plt.hist(e2_weekday, facecolor='blue', alpha=0.5)\n",
    "plt.hist(e2_weekend, facecolor='red', alpha=0.5)\n",
    "# plt.show()\n",
    "e2_normal_weekday = stats.normaltest(e2_weekday).pvalue # 2.7798243005635955e-29\n",
    "e2_normal_weekend = stats.normaltest(e2_weekend).pvalue # 2.991195568683962e-11\n",
    "e2_levene = stats.levene(e2_weekday, e2_weekend).pvalue # 7.391434727467261e-08\n",
    "# print(e2_normal_weekday)\n",
    "# print(e2_normal_weekend)\n",
    "# print(e2_levene)"
   ]
  },
  {
   "cell_type": "code",
   "execution_count": 14,
   "metadata": {},
   "outputs": [],
   "source": [
    "# From the test I did, sqrt is the best. So I choose using np.sqrt().\n",
    "# sqrt_weekday\n",
    "# sqrt_weekend\n",
    "# sqrt_normal_weekday = 0.03687221613365365\n",
    "# sqrt_normal_weekend = 0.10760562894666933\n",
    "# sqrt_levene = 0.5560544297516696"
   ]
  },
  {
   "cell_type": "markdown",
   "metadata": {},
   "source": [
    "# Fix2"
   ]
  },
  {
   "cell_type": "code",
   "execution_count": 15,
   "metadata": {},
   "outputs": [],
   "source": [
    "def toweek(data):\n",
    "    return data.isocalendar()\n",
    "# toweek = np.vectorize(toweek)"
   ]
  },
  {
   "cell_type": "code",
   "execution_count": 16,
   "metadata": {},
   "outputs": [],
   "source": [
    "weekday['toweek'] = weekday['date'].apply(toweek)\n",
    "weekend['toweek'] = weekend['date'].apply(toweek)\n",
    "# print(weekday)\n",
    "weekday = weekday.join(weekday['toweek'].apply(pd.Series))\n",
    "weekend = weekend.join(weekend['toweek'].apply(pd.Series))\n",
    "# print(weekday)"
   ]
  },
  {
   "cell_type": "code",
   "execution_count": 17,
   "metadata": {
    "scrolled": false
   },
   "outputs": [],
   "source": [
    "weekday = weekday.rename(columns = {0:'year', 1:'week', 2:'day'})\n",
    "weekend = weekend.rename(columns = {0:'year', 1:'week', 2:'day'})\n",
    "# print(weekday)"
   ]
  },
  {
   "cell_type": "code",
   "execution_count": 18,
   "metadata": {},
   "outputs": [],
   "source": [
    "weekday_mean = weekday.groupby(['year', 'week'])['comment_count'].mean().reset_index()\n",
    "weekend_mean = weekend.groupby(['year', 'week'])['comment_count'].mean().reset_index()\n",
    "# print(weekday_mean)"
   ]
  },
  {
   "cell_type": "code",
   "execution_count": 19,
   "metadata": {},
   "outputs": [],
   "source": [
    "normal_weekday_meam = stats.normaltest(weekday_mean['comment_count']).pvalue # 0.3082637390825463\n",
    "normal_weekend_meam = stats.normaltest(weekend_mean['comment_count']).pvalue # 0.15294924717078442\n",
    "levene_mean = stats.levene(weekday_mean['comment_count'],weekend_mean['comment_count']).pvalue # 0.20383788083573426\n",
    "ttest_mean = stats.ttest_ind(weekday_mean['comment_count'],weekend_mean['comment_count']).pvalue  # 1.3353656052303144e-34\n",
    "# print(normal_weekday_meam)\n",
    "# print(normal_weekend_meam)\n",
    "# print(levene_mean)\n",
    "# print(ttest_mean)"
   ]
  },
  {
   "cell_type": "markdown",
   "metadata": {},
   "source": [
    "# Fix 3"
   ]
  },
  {
   "cell_type": "code",
   "execution_count": 20,
   "metadata": {},
   "outputs": [],
   "source": [
    "utest_pvalue = stats.mannwhitneyu(weekday['comment_count'],weekend['comment_count']).pvalue # 4.3122266173669665e-53\n",
    "# print(utest_pvalue)"
   ]
  },
  {
   "cell_type": "code",
   "execution_count": 21,
   "metadata": {},
   "outputs": [],
   "source": [
    "OUTPUT_TEMPLATE = (\n",
    "    \"Initial (invalid) T-test p-value: {initial_ttest_p:.3g}\\n\"\n",
    "    \"Original data normality p-values: {initial_weekday_normality_p:.3g} {initial_weekend_normality_p:.3g}\\n\"\n",
    "    \"Original data equal-variance p-value: {initial_levene_p:.3g}\\n\"\n",
    "    \"Transformed data normality p-values: {transformed_weekday_normality_p:.3g} {transformed_weekend_normality_p:.3g}\\n\"\n",
    "    \"Transformed data equal-variance p-value: {transformed_levene_p:.3g}\\n\"\n",
    "    \"Weekly data normality p-values: {weekly_weekday_normality_p:.3g} {weekly_weekend_normality_p:.3g}\\n\"\n",
    "    \"Weekly data equal-variance p-value: {weekly_levene_p:.3g}\\n\"\n",
    "    \"Weekly T-test p-value: {weekly_ttest_p:.3g}\\n\"\n",
    "    \"Mann–Whitney U-test p-value: {utest_p:.3g}\"\n",
    ")"
   ]
  },
  {
   "cell_type": "code",
   "execution_count": 22,
   "metadata": {},
   "outputs": [],
   "source": [
    "def main():\n",
    "#     reddit_counts = sys.argv[1]\n",
    "\n",
    "    # ...\n",
    "\n",
    "    print(OUTPUT_TEMPLATE.format(\n",
    "        initial_ttest_p=ttest_pvalue,\n",
    "        initial_weekday_normality_p=normal_weekday,\n",
    "        initial_weekend_normality_p=normal_weekend,\n",
    "        initial_levene_p=levene_pvalue,\n",
    "        transformed_weekday_normality_p=sqrt_normal_weekday,\n",
    "        transformed_weekend_normality_p=sqrt_normal_weekend,\n",
    "        transformed_levene_p=sqrt_levene,\n",
    "        weekly_weekday_normality_p=normal_weekday_meam,\n",
    "        weekly_weekend_normality_p=normal_weekend_meam,\n",
    "        weekly_levene_p=levene_mean,\n",
    "        weekly_ttest_p=ttest_mean,\n",
    "        utest_p=utest_pvalue,\n",
    "    ))\n"
   ]
  },
  {
   "cell_type": "code",
   "execution_count": 23,
   "metadata": {},
   "outputs": [
    {
     "name": "stdout",
     "output_type": "stream",
     "text": [
      "Initial (invalid) T-test p-value: 1.3e-58\n",
      "Original data normality p-values: 1.01e-07 0.00152\n",
      "Original data equal-variance p-value: 0.0438\n",
      "Transformed data normality p-values: 0.0369 0.108\n",
      "Transformed data equal-variance p-value: 0.556\n",
      "Weekly data normality p-values: 0.308 0.153\n",
      "Weekly data equal-variance p-value: 0.204\n",
      "Weekly T-test p-value: 1.34e-34\n",
      "Mann–Whitney U-test p-value: 4.31e-53\n"
     ]
    }
   ],
   "source": [
    "if __name__ == '__main__':\n",
    "    main()"
   ]
  }
 ],
 "metadata": {
  "kernelspec": {
   "display_name": "Python 3",
   "language": "python",
   "name": "python3"
  },
  "language_info": {
   "codemirror_mode": {
    "name": "ipython",
    "version": 3
   },
   "file_extension": ".py",
   "mimetype": "text/x-python",
   "name": "python",
   "nbconvert_exporter": "python",
   "pygments_lexer": "ipython3",
   "version": "3.7.4"
  }
 },
 "nbformat": 4,
 "nbformat_minor": 2
}
