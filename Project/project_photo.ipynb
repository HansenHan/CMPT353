{
 "cells": [
  {
   "cell_type": "code",
   "execution_count": 1,
   "metadata": {},
   "outputs": [],
   "source": [
    "from xml.dom.minidom import parse, parseString\n",
    "import pandas as pd\n",
    "import numpy as np\n",
    "import sys\n",
    "import math\n",
    "from pykalman import KalmanFilter"
   ]
  },
  {
   "cell_type": "code",
   "execution_count": 2,
   "metadata": {},
   "outputs": [],
   "source": [
    "data1 = pd.read_json('amenities-vancouver.json.gz', lines=True)\n",
    "data1 = data1.dropna().reset_index(drop=True)\n",
    "data2 = pd.read_csv('Airbnb_datalist.csv')\n",
    "data3 = pd.read_csv('photo.csv')"
   ]
  },
  {
   "cell_type": "code",
   "execution_count": 3,
   "metadata": {},
   "outputs": [],
   "source": [
    "unique = data1.groupby('amenity').count()\n",
    "# unique"
   ]
  },
  {
   "cell_type": "code",
   "execution_count": 4,
   "metadata": {},
   "outputs": [],
   "source": [
    "unique = unique.loc[unique['lat']==1].reset_index()\n",
    "# unique"
   ]
  },
  {
   "cell_type": "code",
   "execution_count": 5,
   "metadata": {},
   "outputs": [],
   "source": [
    "unique = unique.loc[:,['amenity', 'lat']]\n",
    "unique = unique.rename(columns = {'lat':'number'}).reset_index()\n",
    "# unique\n",
    "\n",
    "tmp = pd.DataFrame()\n",
    "for i in unique['amenity']:\n",
    "    tmp1 = data1.loc[data1['amenity'] == i]\n",
    "    tmp = pd.concat([tmp, tmp1])\n",
    "tmp.reset_index(drop=True)\n",
    "unique = tmp[['lat', 'lon', 'amenity', 'name']]\n",
    "unique = unique.reset_index(drop = True)\n",
    "unique = unique.reset_index()\n",
    "# unique"
   ]
  },
  {
   "cell_type": "code",
   "execution_count": 6,
   "metadata": {},
   "outputs": [],
   "source": [
    "path = data3.reset_index()\n",
    "path['name'] = 'NaN'\n",
    "# path"
   ]
  },
  {
   "cell_type": "code",
   "execution_count": 7,
   "metadata": {},
   "outputs": [],
   "source": [
    "earth = 6378\n",
    "m = (1 / ((2 * math.pi / 360) * earth)) / 1000\n",
    "for i in path['index']:\n",
    "    for j in unique['index']:\n",
    "        tmp_lon = path['lon'][i]\n",
    "        tmp_lat = path['lat'][i]\n",
    "        x1 = tmp_lon + ((500 * m)/math.cos(tmp_lat*(math.pi/180)))\n",
    "        y1 = tmp_lat + (500 * m)  \n",
    "        x2 = tmp_lon - ((500 * m)/math.cos(tmp_lat*(math.pi/180)))\n",
    "        y2 = tmp_lat - (500 * m)\n",
    "        if unique['lon'][j] < x1 and unique['lon'][j] > x2 and unique['lat'][j] < y1 and unique['lat'][j] > y2:\n",
    "            if path['name'][i] == 'NaN':\n",
    "                path['name'] = unique['name'][[j]]\n",
    "#                 print(unique['name'][[j]])"
   ]
  },
  {
   "cell_type": "code",
   "execution_count": 8,
   "metadata": {
    "scrolled": false
   },
   "outputs": [],
   "source": [
    "# with pd.option_context('display.max_rows', None, 'display.max_columns', None):  # more options can be specified also\n",
    "#     print(path)"
   ]
  },
  {
   "cell_type": "code",
   "execution_count": 9,
   "metadata": {},
   "outputs": [],
   "source": [
    "special = path.dropna()\n",
    "# special"
   ]
  },
  {
   "cell_type": "code",
   "execution_count": 18,
   "metadata": {},
   "outputs": [
    {
     "data": {
      "text/html": [
       "<div style=\"width:100%;\"><div style=\"position:relative;width:100%;height:0;padding-bottom:60%;\"><iframe src=\"data:text/html;charset=utf-8;base64,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\" style=\"position:absolute;width:100%;height:100%;left:0;top:0;border:none !important;\" allowfullscreen webkitallowfullscreen mozallowfullscreen></iframe></div></div>"
      ],
      "text/plain": [
       "<folium.folium.Map at 0x7fd653155320>"
      ]
     },
     "execution_count": 18,
     "metadata": {},
     "output_type": "execute_result"
    }
   ],
   "source": [
    "# https://www.zhihu.com/question/33783546/answer/775946401\n",
    "import folium\n",
    "import pandas as pd\n",
    "\n",
    "# define the world map\n",
    "world_map = folium.Map()\n",
    "\n",
    "# display world map\n",
    "world_map\n",
    "\n",
    "latitude = 49.27128\n",
    "longitude = -122.92335\n",
    "\n",
    "# Create map and display it\n",
    "van_map = folium.Map(location=[latitude, longitude], zoom_start=12)\n",
    "\n",
    "# Display the map of San Francisco\n",
    "van_map\n",
    "\n",
    "incidents = folium.map.FeatureGroup()\n",
    "\n",
    "# add pop-up text to each marker on the map\n",
    "latitudes = list(special.lat)\n",
    "longitudes = list(special.lon)\n",
    "labels = list(special.name)\n",
    "\n",
    "for lat, lng, label in zip(latitudes, longitudes, labels):\n",
    "    folium.Marker([lat, lng], popup=label).add_to(van_map)\n",
    "    \n",
    "# latitudes = list(path.lat)\n",
    "# longitudes = list(path.lon)\n",
    "# labels = list(path.name)\n",
    "\n",
    "points =[(i,j) for i,j in path.loc[:,[\"lat\",\"lon\"]].values.tolist()]\n",
    "\n",
    "folium.PolyLine(points, color = 'red').add_to(van_map)\n",
    "\n",
    "    \n",
    "# add incidents to map\n",
    "van_map.add_child(incidents)"
   ]
  },
  {
   "cell_type": "code",
   "execution_count": null,
   "metadata": {},
   "outputs": [],
   "source": []
  }
 ],
 "metadata": {
  "kernelspec": {
   "display_name": "Python 3",
   "language": "python",
   "name": "python3"
  },
  "language_info": {
   "codemirror_mode": {
    "name": "ipython",
    "version": 3
   },
   "file_extension": ".py",
   "mimetype": "text/x-python",
   "name": "python",
   "nbconvert_exporter": "python",
   "pygments_lexer": "ipython3",
   "version": "3.7.0"
  }
 },
 "nbformat": 4,
 "nbformat_minor": 2
}
