{
 "cells": [
  {
   "cell_type": "code",
   "execution_count": 1,
   "metadata": {},
   "outputs": [],
   "source": [
    "from xml.dom.minidom import parse, parseString\n",
    "import pandas as pd\n",
    "import numpy as np\n",
    "import sys\n",
    "import math\n",
    "from pykalman import KalmanFilter"
   ]
  },
  {
   "cell_type": "code",
   "execution_count": 2,
   "metadata": {},
   "outputs": [],
   "source": [
    "data1 = pd.read_json('amenities-vancouver.json.gz', lines=True)\n",
    "data1 = data1.dropna().reset_index(drop=True)\n",
    "data2 = pd.read_csv('Airbnb_datalist.csv')"
   ]
  },
  {
   "cell_type": "code",
   "execution_count": 3,
   "metadata": {},
   "outputs": [],
   "source": [
    "# data1"
   ]
  },
  {
   "cell_type": "code",
   "execution_count": 4,
   "metadata": {},
   "outputs": [],
   "source": [
    "need = 'not_na'\n",
    "# needs_ame = []\n",
    "needs_nam = []\n",
    "# while need != 'NaN':\n",
    "#     need = input('What you need nearby your hotel? (enter name or NaN) ')\n",
    "# #     if need in data1['amenity'].values:\n",
    "# #         needs_ame.append(need)\n",
    "#     if need in data1['name'].values:\n",
    "#         needs_nam.append(need)\n",
    "#     elif need == 'NaN':\n",
    "#         print('Thank you for your information.')\n",
    "#     else:\n",
    "#         print('Sorry! Cannot find ' + need + '. ')\n",
    "\n",
    "needs_nam.append('KFC')\n",
    "needs_nam.append('Starbucks')\n",
    "needs_nam.append('Subway')\n",
    "# needs_nam"
   ]
  },
  {
   "cell_type": "code",
   "execution_count": 5,
   "metadata": {},
   "outputs": [],
   "source": [
    "# for i in needs:\n",
    "#     if i in data1['name'].values:\n",
    "#         print(i)\n",
    "#     if i in data1['amenity'].values:\n",
    "#         print(i)"
   ]
  },
  {
   "cell_type": "code",
   "execution_count": 6,
   "metadata": {},
   "outputs": [],
   "source": [
    "# if 'cafe' in data1['amenity'].values:\n",
    "#     print('cafe')"
   ]
  },
  {
   "cell_type": "code",
   "execution_count": 7,
   "metadata": {},
   "outputs": [],
   "source": [
    "tmp = pd.DataFrame()\n",
    "# for i in needs_ame:\n",
    "#     tmp1 = data1.loc[data1['amenity'] == i]\n",
    "#     tmp = pd.concat([tmp, tmp1])\n",
    "for j in needs_nam:\n",
    "    tmp2 = data1.loc[data1['name'] == j]\n",
    "    tmp = pd.concat([tmp, tmp2])\n",
    "needs_data = tmp.reset_index(drop = True)"
   ]
  },
  {
   "cell_type": "code",
   "execution_count": 8,
   "metadata": {},
   "outputs": [],
   "source": [
    "# tmp1 = data1.loc[data1['name'] == 'Starbucks']\n",
    "# tmp2 = data1.loc[data1['name'] == 'Salad Loop']\n",
    "# tmp = pd.concat([tmp1, tmp2]).reset_index(drop = True)"
   ]
  },
  {
   "cell_type": "code",
   "execution_count": 9,
   "metadata": {},
   "outputs": [],
   "source": [
    "# needs_data"
   ]
  },
  {
   "cell_type": "code",
   "execution_count": 10,
   "metadata": {},
   "outputs": [],
   "source": [
    "data2 = data2.rename(columns={'latitude': 'lat', 'longitude': 'lon'})\n",
    "data2['lat'] = data2['lat'].astype(float)\n",
    "data2['lon'] = data2['lon'].astype(float)\n",
    "# data2"
   ]
  },
  {
   "cell_type": "code",
   "execution_count": 11,
   "metadata": {},
   "outputs": [],
   "source": [
    "data2 = data2.loc[data2['room_type'] == 'Hotel room'].reset_index(drop = True)\n",
    "# data2"
   ]
  },
  {
   "cell_type": "code",
   "execution_count": 12,
   "metadata": {},
   "outputs": [],
   "source": [
    "# lon_range = '(' + str(data2['lon'].min()) + ' to ' + str(data2['lon'].max()) + ')'\n",
    "# lat_range = '(' + str(data2['lat'].min()) + ' to ' + str(data2['lat'].max()) + ')'\n",
    "# initial_lon = input('Please enter your longitude to finde nearby hotel. ' + lon_range + ' ')\n",
    "# initial_lat = input('Please enter your latitude to finde nearby hotel. ' + lat_range + ' ')\n",
    "# initial_lon = float(initial_lon)\n",
    "# initial_lat = float(initial_lat)\n",
    "\n",
    "initial_lat = 49.2823254\n",
    "initial_lon = -123.1187994"
   ]
  },
  {
   "cell_type": "code",
   "execution_count": 13,
   "metadata": {},
   "outputs": [],
   "source": [
    "# print(type(initial_lon))"
   ]
  },
  {
   "cell_type": "code",
   "execution_count": 14,
   "metadata": {},
   "outputs": [],
   "source": [
    "earth = 6378\n",
    "m = (1 / ((2 * math.pi / 360) * earth)) / 1000\n",
    "\n",
    "#https://stackoverflow.com/questions/7477003/calculating-new-longitude-latitude-from-old-n-meters\n",
    "# initial_lon = np.random.uniform(data2['lon'].min(), data2['lon'].max())\n",
    "#print(initial_lon)\n",
    "# initial_lat = np.random.uniform(data2['lat'].min(), data2['lat'].max())\n",
    "#print(initial_lat)\n",
    "\n",
    "x1 = initial_lon + ((5000 * m)/math.cos(initial_lat*(math.pi/180)))\n",
    "y1 = initial_lat + (5000 * m)  \n",
    "\n",
    "x2 = initial_lon - ((5000 * m)/math.cos(initial_lat*(math.pi/180)))\n",
    "y2 = initial_lat - (5000 * m)\n",
    "\n",
    "hotel_range = data2.loc[data2['lon'] < x1].reset_index(drop=True)\n",
    "hotel_range = hotel_range.loc[hotel_range['lon'] > x2]\n",
    "hotel_range = hotel_range.loc[hotel_range['lat'] < y1]\n",
    "hotel_range = hotel_range.loc[hotel_range['lat'] > y2]\n",
    "hotel_range = hotel_range.reset_index(drop=True)"
   ]
  },
  {
   "cell_type": "code",
   "execution_count": 15,
   "metadata": {},
   "outputs": [],
   "source": [
    "# price_range = '(' + str(hotel_range['price'].min()) + ' to ' + str(hotel_range['price'].max()) + ')'\n",
    "# min_price = input('What is the min price of the hotel you want? ' + price_range + ' ')\n",
    "# max_price = input('What is the max price of the hotel you want? ' + price_range + ' ')\n",
    "# min_price = int(min_price)\n",
    "# max_price = int(max_price)\n",
    "\n",
    "\n",
    "min_price = 60\n",
    "max_price = 500"
   ]
  },
  {
   "cell_type": "code",
   "execution_count": 16,
   "metadata": {},
   "outputs": [],
   "source": [
    "# print(type(max_price))"
   ]
  },
  {
   "cell_type": "code",
   "execution_count": 17,
   "metadata": {},
   "outputs": [],
   "source": [
    "hotel_range = hotel_range.loc[hotel_range['price'] < max_price]\n",
    "hotel_range = hotel_range.loc[hotel_range['price'] > min_price]\n",
    "hotel_data = hotel_range.reset_index(drop = True)"
   ]
  },
  {
   "cell_type": "code",
   "execution_count": 18,
   "metadata": {},
   "outputs": [],
   "source": [
    "# empty = []\n",
    "for i in range(len(needs_nam)):\n",
    "#     print(needs_nam[i])\n",
    "#     name = 'KFC'\n",
    "#     hotel_data[name] = 0\n",
    "    hotel_data[needs_nam[i]] = 0\n",
    "# hotel_data"
   ]
  },
  {
   "cell_type": "code",
   "execution_count": 19,
   "metadata": {},
   "outputs": [],
   "source": [
    "hotel_data = hotel_data.reset_index()\n",
    "# hotel_data"
   ]
  },
  {
   "cell_type": "code",
   "execution_count": 20,
   "metadata": {},
   "outputs": [],
   "source": [
    "needs_data = needs_data.reset_index()\n",
    "# needs_data"
   ]
  },
  {
   "cell_type": "code",
   "execution_count": 21,
   "metadata": {},
   "outputs": [
    {
     "name": "stderr",
     "output_type": "stream",
     "text": [
      "/opt/anaconda3/lib/python3.7/site-packages/ipykernel_launcher.py:10: SettingWithCopyWarning: \n",
      "A value is trying to be set on a copy of a slice from a DataFrame\n",
      "\n",
      "See the caveats in the documentation: http://pandas.pydata.org/pandas-docs/stable/user_guide/indexing.html#returning-a-view-versus-a-copy\n",
      "  # Remove the CWD from sys.path while we load stuff.\n"
     ]
    }
   ],
   "source": [
    "for i in hotel_data['index']:\n",
    "    for j in needs_data['index']:\n",
    "        tmp_lon = hotel_data['lon'][i]\n",
    "        tmp_lat = hotel_data['lat'][i]\n",
    "        x1 = tmp_lon + ((500 * m)/math.cos(tmp_lat*(math.pi/180)))\n",
    "        y1 = tmp_lat + (500 * m)  \n",
    "        x2 = tmp_lon - ((500 * m)/math.cos(tmp_lat*(math.pi/180)))\n",
    "        y2 = tmp_lat - (500 * m)\n",
    "        if needs_data['lon'][j] < x1 and needs_data['lon'][j] > x2 and needs_data['lat'][j] < y1 and needs_data['lat'][j] > y2:\n",
    "            hotel_data[needs_data['name'][j]][i] = hotel_data[needs_data['name'][j]][i] + 1"
   ]
  },
  {
   "cell_type": "code",
   "execution_count": 22,
   "metadata": {},
   "outputs": [],
   "source": [
    "# tmp_lat = 49.2823254\n",
    "# tmp_lon = -123.1187994\n",
    "# x1 = tmp_lon + ((5000 * m)/math.cos(tmp_lat*(math.pi/180)))\n",
    "# y1 = tmp_lat + (5000 * m)  \n",
    "# x2 = tmp_lon - ((5000 * m)/math.cos(tmp_lat*(math.pi/180)))\n",
    "# y2 = tmp_lat - (5000 * m)\n",
    "# print(x1)\n",
    "# print(y1)\n",
    "# print(x2)\n",
    "# print(y2)\n",
    "# print(needs_data['lon'][394])\n",
    "# print(hotel_data[needs_data['name'][1]][1])\n",
    "# print('--------')\n",
    "# for j in needs_data['index']:\n",
    "#     print(j)\n",
    "#     if needs_data['lon'][j] < x1 and needs_data['lon'][j] > x2 and needs_data['lat'][j] < y1 and needs_data['lat'][j] > y2:\n",
    "#         print('find!!!!!!')\n",
    "#          hotel_data[needs_data['name'][j]][i] = hotel_data[needs_data['name'][j]][i] + 1"
   ]
  },
  {
   "cell_type": "code",
   "execution_count": 23,
   "metadata": {
    "scrolled": true
   },
   "outputs": [],
   "source": [
    "# hotel_data"
   ]
  },
  {
   "cell_type": "code",
   "execution_count": 24,
   "metadata": {},
   "outputs": [
    {
     "data": {
      "text/html": [
       "<div>\n",
       "<style scoped>\n",
       "    .dataframe tbody tr th:only-of-type {\n",
       "        vertical-align: middle;\n",
       "    }\n",
       "\n",
       "    .dataframe tbody tr th {\n",
       "        vertical-align: top;\n",
       "    }\n",
       "\n",
       "    .dataframe thead th {\n",
       "        text-align: right;\n",
       "    }\n",
       "</style>\n",
       "<table border=\"1\" class=\"dataframe\">\n",
       "  <thead>\n",
       "    <tr style=\"text-align: right;\">\n",
       "      <th></th>\n",
       "      <th>id</th>\n",
       "      <th>name</th>\n",
       "      <th>host_id</th>\n",
       "      <th>host_name</th>\n",
       "      <th>neighbourhood</th>\n",
       "      <th>lat</th>\n",
       "      <th>lon</th>\n",
       "      <th>room_type</th>\n",
       "      <th>price</th>\n",
       "      <th>number_of_reviews</th>\n",
       "      <th>KFC</th>\n",
       "      <th>Starbucks</th>\n",
       "      <th>Subway</th>\n",
       "    </tr>\n",
       "  </thead>\n",
       "  <tbody>\n",
       "    <tr>\n",
       "      <td>0</td>\n",
       "      <td>9351082</td>\n",
       "      <td>Spectacular Wall Centre Studio: Location, View...</td>\n",
       "      <td>33447373</td>\n",
       "      <td>Masoud</td>\n",
       "      <td>Downtown</td>\n",
       "      <td>49.27960</td>\n",
       "      <td>-123.12616</td>\n",
       "      <td>Hotel room</td>\n",
       "      <td>200</td>\n",
       "      <td>36</td>\n",
       "      <td>1</td>\n",
       "      <td>10</td>\n",
       "      <td>6</td>\n",
       "    </tr>\n",
       "    <tr>\n",
       "      <td>1</td>\n",
       "      <td>20443265</td>\n",
       "      <td>Budget Housing in the Heart of the City</td>\n",
       "      <td>326082</td>\n",
       "      <td>Brian</td>\n",
       "      <td>West End</td>\n",
       "      <td>49.28358</td>\n",
       "      <td>-123.12877</td>\n",
       "      <td>Hotel room</td>\n",
       "      <td>101</td>\n",
       "      <td>150</td>\n",
       "      <td>1</td>\n",
       "      <td>9</td>\n",
       "      <td>5</td>\n",
       "    </tr>\n",
       "  </tbody>\n",
       "</table>\n",
       "</div>"
      ],
      "text/plain": [
       "         id                                               name   host_id  \\\n",
       "0   9351082  Spectacular Wall Centre Studio: Location, View...  33447373   \n",
       "1  20443265            Budget Housing in the Heart of the City    326082   \n",
       "\n",
       "  host_name neighbourhood       lat        lon   room_type  price  \\\n",
       "0    Masoud      Downtown  49.27960 -123.12616  Hotel room    200   \n",
       "1     Brian      West End  49.28358 -123.12877  Hotel room    101   \n",
       "\n",
       "   number_of_reviews  KFC  Starbucks  Subway  \n",
       "0                 36    1         10       6  \n",
       "1                150    1          9       5  "
      ]
     },
     "execution_count": 24,
     "metadata": {},
     "output_type": "execute_result"
    }
   ],
   "source": [
    "hotel_data = hotel_data.loc[hotel_data['KFC']>0]\n",
    "hotel_data = hotel_data.loc[hotel_data['Starbucks']>0]\n",
    "hotel_data = hotel_data.loc[hotel_data['Subway']>0]\n",
    "hotel_data = hotel_data.drop(columns = ['index'])\n",
    "hotel_data.reset_index(drop = True)"
   ]
  },
  {
   "cell_type": "code",
   "execution_count": 25,
   "metadata": {},
   "outputs": [
    {
     "data": {
      "text/html": [
       "<div style=\"width:100%;\"><div style=\"position:relative;width:100%;height:0;padding-bottom:60%;\"><iframe src=\"data:text/html;charset=utf-8;base64,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\" style=\"position:absolute;width:100%;height:100%;left:0;top:0;border:none !important;\" allowfullscreen webkitallowfullscreen mozallowfullscreen></iframe></div></div>"
      ],
      "text/plain": [
       "<folium.folium.Map at 0x7f76873dbb38>"
      ]
     },
     "execution_count": 25,
     "metadata": {},
     "output_type": "execute_result"
    }
   ],
   "source": [
    "# https://www.zhihu.com/question/33783546/answer/775946401\n",
    "import folium\n",
    "import pandas as pd\n",
    "\n",
    "# define the world map\n",
    "world_map = folium.Map()\n",
    "\n",
    "# display world map\n",
    "world_map\n",
    "\n",
    "latitude = 49.2823254\n",
    "longitude = -123.1187994\n",
    "\n",
    "# Create map and display it\n",
    "van_map = folium.Map(location=[latitude, longitude], zoom_start=12)\n",
    "\n",
    "# Display the map of San Francisco\n",
    "van_map\n",
    "\n",
    "incidents = folium.map.FeatureGroup()\n",
    "\n",
    "# add pop-up text to each marker on the map\n",
    "latitudes = list(hotel_data.lat)\n",
    "longitudes = list(hotel_data.lon)\n",
    "labels = list(hotel_data.name)\n",
    "\n",
    "for lat, lng, label in zip(latitudes, longitudes, labels):\n",
    "    folium.Marker([lat, lng], popup=label).add_to(van_map)\n",
    "    \n",
    "# latitudes = list(needs_data.lat)\n",
    "# longitudes = list(needs_data.lon)\n",
    "# labels = list(needs_data.name)\n",
    "\n",
    "# for lat, lng, label in zip(latitudes, longitudes, labels):\n",
    "#     folium.Marker([lat, lng], popup=label).add_to(van_map)  \n",
    "    \n",
    "# add incidents to map\n",
    "van_map.add_child(incidents)\n"
   ]
  },
  {
   "cell_type": "code",
   "execution_count": 26,
   "metadata": {},
   "outputs": [
    {
     "data": {
      "text/html": [
       "<div style=\"width:100%;\"><div style=\"position:relative;width:100%;height:0;padding-bottom:60%;\"><iframe src=\"data:text/html;charset=utf-8;base64,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\" style=\"position:absolute;width:100%;height:100%;left:0;top:0;border:none !important;\" allowfullscreen webkitallowfullscreen mozallowfullscreen></iframe></div></div>"
      ],
      "text/plain": [
       "<folium.folium.Map at 0x7f76873dbb38>"
      ]
     },
     "execution_count": 26,
     "metadata": {},
     "output_type": "execute_result"
    }
   ],
   "source": [
    "from folium.plugins import HeatMap\n",
    "\n",
    "# let's start again with a clean copy of the map of San Francisco\n",
    "san_map = folium.Map(location = [latitude, longitude], zoom_start = 12)\n",
    "\n",
    "# Convert data format\n",
    "heatdata = needs_data[['lat','lon']].values.tolist()\n",
    "\n",
    "# add incidents to map\n",
    "HeatMap(heatdata).add_to(van_map)\n",
    "\n",
    "van_map\n"
   ]
  }
 ],
 "metadata": {
  "kernelspec": {
   "display_name": "Python 3",
   "language": "python",
   "name": "python3"
  },
  "language_info": {
   "codemirror_mode": {
    "name": "ipython",
    "version": 3
   },
   "file_extension": ".py",
   "mimetype": "text/x-python",
   "name": "python",
   "nbconvert_exporter": "python",
   "pygments_lexer": "ipython3",
   "version": "3.7.4"
  }
 },
 "nbformat": 4,
 "nbformat_minor": 2
}
