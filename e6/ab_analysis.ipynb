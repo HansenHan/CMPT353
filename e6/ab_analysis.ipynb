{
 "cells": [
  {
   "cell_type": "code",
   "execution_count": 1,
   "metadata": {},
   "outputs": [],
   "source": [
    "import numpy as np\n",
    "import pandas as pd\n",
    "import sys\n",
    "from scipy import stats"
   ]
  },
  {
   "cell_type": "code",
   "execution_count": 2,
   "metadata": {},
   "outputs": [],
   "source": [
    "OUTPUT_TEMPLATE = (\n",
    "    '\"Did more/less users use the search feature?\" p-value: {more_users_p:.3g}\\n'\n",
    "    '\"Did users search more/less?\" p-value: {more_searches_p:.3g}\\n'\n",
    "    '\"Did more/less instructors use the search feature?\" p-value: {more_instr_p:.3g}\\n'\n",
    "    '\"Did instructors search more/less?\" p-value: {more_instr_searches_p:.3g}'\n",
    ")"
   ]
  },
  {
   "cell_type": "code",
   "execution_count": 3,
   "metadata": {},
   "outputs": [],
   "source": [
    "searchdata_file = sys.argv[1]\n",
    "# searchdata_file = 'searches.json'\n",
    "df = pd.read_json(searchdata_file, orient = 'records', lines = True)\n",
    "# df"
   ]
  },
  {
   "cell_type": "code",
   "execution_count": 4,
   "metadata": {},
   "outputs": [],
   "source": [
    "odd_df = df[df['uid']%2==1]\n",
    "even_df = df[df['uid']%2==0]\n",
    "odd_df_search = odd_df[odd_df['search_count']>0].reset_index(drop = True)\n",
    "odd_df_none = odd_df[odd_df['search_count']==0].reset_index(drop = True)\n",
    "even_df_search = even_df[even_df['search_count']>0].reset_index(drop = True)\n",
    "even_df_none = even_df[even_df['search_count']==0].reset_index(drop = True)\n",
    "odd_df_number = odd_df.shape[0]\n",
    "even_df_number = even_df.shape[0]\n",
    "odd_df_search_number = odd_df_search.shape[0]\n",
    "odd_df_none_number = odd_df_none.shape[0]\n",
    "even_df_search_number = even_df_search.shape[0]\n",
    "even_df_none_number = even_df_none.shape[0]\n",
    "\n",
    "chi_matrix = [[even_df_search_number, even_df_none_number],[odd_df_search_number, odd_df_none_number]]\n",
    "chi, p1, dof, expected = stats.chi2_contingency(chi_matrix)\n",
    "# p1\n",
    "# print(odd_df_number,\n",
    "# even_df_number)\n",
    "# print(odd_df_l0_number,\n",
    "# odd_df_s0_number,\n",
    "# even_df_l0_number,\n",
    "# even_df_s0_number)\n",
    "# print(odd_df_l0_number+\n",
    "# odd_df_s0_number+\n",
    "# even_df_l0_number+\n",
    "# even_df_s0_number)\n",
    "# print(df.shape[0])"
   ]
  },
  {
   "cell_type": "code",
   "execution_count": 5,
   "metadata": {},
   "outputs": [],
   "source": [
    "insdf = df[df['is_instructor'] == True]\n",
    "odd_insdf = insdf[insdf['uid']%2==1]\n",
    "even_insdf = insdf[insdf['uid']%2==0]\n",
    "odd_insdf_search = odd_insdf[odd_insdf['search_count']>0].reset_index(drop = True)\n",
    "odd_insdf_none = odd_insdf[odd_insdf['search_count']==0].reset_index(drop = True)\n",
    "even_insdf_search = even_insdf[even_insdf['search_count']>0].reset_index(drop = True)\n",
    "even_insdf_none = even_insdf[even_insdf['search_count']==0].reset_index(drop = True)\n",
    "odd_insdf_number = odd_insdf.shape[0]\n",
    "even_insdf_number = even_insdf.shape[0]\n",
    "odd_insdf_search_number = odd_insdf_search.shape[0]\n",
    "odd_insdf_none_number = odd_insdf_none.shape[0]\n",
    "even_insdf_search_number = even_insdf_search.shape[0]\n",
    "even_insdf_none_number = even_insdf_none.shape[0]\n",
    "\n",
    "chi_matrix2 = [[even_insdf_search_number, even_insdf_none_number],[odd_insdf_search_number, odd_insdf_none_number]]\n",
    "chi2, p2, dof2, expected2 = stats.chi2_contingency(chi_matrix2)\n",
    "# p2\n",
    "# print(odd_df_number,\n",
    "# even_df_number)\n",
    "# print(odd_df_l0_number,\n",
    "# odd_df_s0_number,\n",
    "# even_df_l0_number,\n",
    "# even_df_s0_number)\n",
    "# print(odd_df_l0_number+\n",
    "# odd_df_s0_number+\n",
    "# even_df_l0_number+\n",
    "# even_df_s0_number)\n",
    "# print(df.shape[0])"
   ]
  },
  {
   "cell_type": "code",
   "execution_count": 6,
   "metadata": {},
   "outputs": [],
   "source": [
    "p3 = stats.mannwhitneyu(odd_df['search_count'], even_df['search_count']).pvalue\n",
    "p4 = stats.mannwhitneyu(odd_insdf['search_count'], even_insdf['search_count']).pvalue"
   ]
  },
  {
   "cell_type": "code",
   "execution_count": 7,
   "metadata": {},
   "outputs": [
    {
     "name": "stdout",
     "output_type": "stream",
     "text": [
      "\"Did more/less users use the search feature?\" p-value: 0.168\n",
      "\"Did users search more/less?\" p-value: 0.0706\n",
      "\"Did more/less instructors use the search feature?\" p-value: 0.052\n",
      "\"Did instructors search more/less?\" p-value: 0.0225\n"
     ]
    }
   ],
   "source": [
    "def main():\n",
    "#     searchdata_file = sys.argv[1]\n",
    "#     df = pd.read_json(searchdata_file, orient = 'records', lines = True)\n",
    "    # ...\n",
    "    \n",
    "    # Output\n",
    "    print(OUTPUT_TEMPLATE.format(\n",
    "        more_users_p=p1,\n",
    "        more_searches_p=p3,\n",
    "        more_instr_p=p2,\n",
    "        more_instr_searches_p=p4,\n",
    "    ))\n",
    "\n",
    "\n",
    "if __name__ == '__main__':\n",
    "    main()"
   ]
  },
  {
   "cell_type": "code",
   "execution_count": null,
   "metadata": {},
   "outputs": [],
   "source": []
  }
 ],
 "metadata": {
  "kernelspec": {
   "display_name": "Python 3",
   "language": "python",
   "name": "python3"
  },
  "language_info": {
   "codemirror_mode": {
    "name": "ipython",
    "version": 3
   },
   "file_extension": ".py",
   "mimetype": "text/x-python",
   "name": "python",
   "nbconvert_exporter": "python",
   "pygments_lexer": "ipython3",
   "version": "3.7.4"
  }
 },
 "nbformat": 4,
 "nbformat_minor": 2
}
