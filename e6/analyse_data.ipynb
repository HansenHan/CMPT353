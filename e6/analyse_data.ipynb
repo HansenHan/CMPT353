{
 "cells": [
  {
   "cell_type": "code",
   "execution_count": 1,
   "metadata": {},
   "outputs": [],
   "source": [
    "import numpy as np\n",
    "import pandas as pd\n",
    "import sys\n",
    "from scipy import stats\n",
    "import matplotlib.pyplot as plt\n",
    "from statsmodels.stats.multicomp import pairwise_tukeyhsd"
   ]
  },
  {
   "cell_type": "code",
   "execution_count": 2,
   "metadata": {},
   "outputs": [],
   "source": [
    "data = pd.read_csv('data.csv')\n",
    "# data"
   ]
  },
  {
   "cell_type": "code",
   "execution_count": 3,
   "metadata": {},
   "outputs": [],
   "source": [
    "# plt.hist(data['qs1'])\n",
    "# plt.show()"
   ]
  },
  {
   "cell_type": "code",
   "execution_count": 4,
   "metadata": {},
   "outputs": [],
   "source": [
    "mean = data.agg('mean')\n",
    "mean = mean.sort_values()\n",
    "mean = pd.DataFrame(mean, columns = ['mean_time']) \n",
    "# print(mean)"
   ]
  },
  {
   "cell_type": "code",
   "execution_count": 5,
   "metadata": {},
   "outputs": [],
   "source": [
    "anova = stats.f_oneway(data['qs1'],data['qs2'],data['qs3'],data['qs4'],data['qs5'],data['merge1'],data['partition_sort'])\n",
    "# anova"
   ]
  },
  {
   "cell_type": "code",
   "execution_count": 6,
   "metadata": {},
   "outputs": [],
   "source": [
    "data_melt = pd.melt(data)\n",
    "posthoc = pairwise_tukeyhsd(\n",
    "    data_melt['value'], data_melt['variable'],\n",
    "    alpha=0.05)\n",
    "# print(posthoc)"
   ]
  },
  {
   "cell_type": "code",
   "execution_count": 7,
   "metadata": {},
   "outputs": [
    {
     "name": "stdout",
     "output_type": "stream",
     "text": [
      "Mean running times for the 7 sorting methods:\n",
      "                mean_time\n",
      "partition_sort   0.015786\n",
      "qs1              0.023499\n",
      "qs5              0.034437\n",
      "qs4              0.035159\n",
      "qs3              0.035295\n",
      "qs2              0.035357\n",
      "merge1           0.035879\n",
      "The ANOVA p_value is: 0.0  which means there is a difference among the mean running times for different sorting methods.\n",
      "Here is the posthoc table\n",
      "      Multiple Comparison of Means - Tukey HSD,FWER=0.05     \n",
      "=============================================================\n",
      "    group1         group2     meandiff  lower   upper  reject\n",
      "-------------------------------------------------------------\n",
      "    merge1     partition_sort -0.0201  -0.0203 -0.0199  True \n",
      "    merge1          qs1       -0.0124  -0.0126 -0.0122  True \n",
      "    merge1          qs2       -0.0005  -0.0007 -0.0003  True \n",
      "    merge1          qs3       -0.0006  -0.0008 -0.0004  True \n",
      "    merge1          qs4       -0.0007  -0.0009 -0.0005  True \n",
      "    merge1          qs5       -0.0014  -0.0017 -0.0012  True \n",
      "partition_sort      qs1        0.0077   0.0075  0.0079  True \n",
      "partition_sort      qs2        0.0196   0.0194  0.0198  True \n",
      "partition_sort      qs3        0.0195   0.0193  0.0197  True \n",
      "partition_sort      qs4        0.0194   0.0192  0.0196  True \n",
      "partition_sort      qs5        0.0187   0.0184  0.0189  True \n",
      "     qs1            qs2        0.0119   0.0116  0.0121  True \n",
      "     qs1            qs3        0.0118   0.0116  0.012   True \n",
      "     qs1            qs4        0.0117   0.0114  0.0119  True \n",
      "     qs1            qs5        0.0109   0.0107  0.0112  True \n",
      "     qs2            qs3       -0.0001  -0.0003  0.0002 False \n",
      "     qs2            qs4       -0.0002  -0.0004   0.0   False \n",
      "     qs2            qs5       -0.0009  -0.0011 -0.0007  True \n",
      "     qs3            qs4       -0.0001  -0.0004  0.0001 False \n",
      "     qs3            qs5       -0.0009  -0.0011 -0.0006  True \n",
      "     qs4            qs5       -0.0007  -0.0009 -0.0005  True \n",
      "-------------------------------------------------------------\n"
     ]
    }
   ],
   "source": [
    "print('Mean running times for the 7 sorting methods:')\n",
    "print(mean)\n",
    "print('The ANOVA p_value is:', anova.pvalue, ' which means there is a difference among the mean running times for different sorting methods.')\n",
    "print('Here is the posthoc table')\n",
    "print(posthoc)"
   ]
  }
 ],
 "metadata": {
  "kernelspec": {
   "display_name": "Python 3",
   "language": "python",
   "name": "python3"
  },
  "language_info": {
   "codemirror_mode": {
    "name": "ipython",
    "version": 3
   },
   "file_extension": ".py",
   "mimetype": "text/x-python",
   "name": "python",
   "nbconvert_exporter": "python",
   "pygments_lexer": "ipython3",
   "version": "3.7.4"
  }
 },
 "nbformat": 4,
 "nbformat_minor": 2
}
