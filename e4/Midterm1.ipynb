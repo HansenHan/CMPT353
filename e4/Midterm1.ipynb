{
 "cells": [
  {
   "cell_type": "markdown",
   "metadata": {},
   "source": [
    "# Lec 3"
   ]
  },
  {
   "cell_type": "code",
   "execution_count": 1,
   "metadata": {},
   "outputs": [],
   "source": [
    "import numpy as np"
   ]
  },
  {
   "cell_type": "code",
   "execution_count": 2,
   "metadata": {},
   "outputs": [
    {
     "name": "stdout",
     "output_type": "stream",
     "text": [
      "(5,)\n",
      "1 int64\n"
     ]
    }
   ],
   "source": [
    "a = np.array([1, 2, 3, 4, 5], dtype = np.int)\n",
    "print(a.shape)\n",
    "print(a.ndim, a.dtype)"
   ]
  },
  {
   "cell_type": "code",
   "execution_count": 3,
   "metadata": {},
   "outputs": [
    {
     "name": "stdout",
     "output_type": "stream",
     "text": [
      "[ 5  6  7  8  9 10]\n",
      "[0.  0.5 1.  1.5 2.  2.5 3.  3.5 4.  4.5 5. ]\n",
      "[[ 5  6  7]\n",
      " [ 8  9 10]]\n",
      "[[0. 0. 0.]\n",
      " [0. 0. 0.]]\n",
      "[[1. 0. 0. 0.]\n",
      " [0. 1. 0. 0.]\n",
      " [0. 0. 1. 0.]\n",
      " [0. 0. 0. 1.]]\n",
      "[[0.58738248 0.34303368 0.8109994  0.89172415]\n",
      " [0.93813034 0.67365704 0.82849455 0.17175252]\n",
      " [0.44180552 0.26206965 0.82296958 0.40557865]]\n",
      "[[0.62989093 0.23399885 0.4408145 ]\n",
      " [0.0872849  0.97078832 0.31970389]]\n"
     ]
    }
   ],
   "source": [
    "print(np.arange(5, 11))\n",
    "print(np.linspace(0, 5, 11, dtype=np.float))\n",
    "print(np.empty((2, 3), dtype=np.int))\n",
    "print(np.zeros((2, 3)))\n",
    "print(np.identity(4))\n",
    "print(np.random.rand(3, 4))\n",
    "print(np.random.random((2, 3)))"
   ]
  },
  {
   "cell_type": "code",
   "execution_count": 4,
   "metadata": {},
   "outputs": [
    {
     "name": "stdout",
     "output_type": "stream",
     "text": [
      "[[2 2]\n",
      " [3 5]]\n",
      "[[1 0]\n",
      " [0 4]]\n",
      "[[1 2]\n",
      " [3 4]]\n",
      "[[ 3  6]\n",
      " [ 9 12]]\n"
     ]
    }
   ],
   "source": [
    "some_ints = np.array([[1,2], [3,4]], dtype=np.int64)\n",
    "ident = np.identity(2, dtype=np.int32)\n",
    "print(some_ints + ident)\n",
    "print(some_ints * ident) # element-wise multiplication\n",
    "print(some_ints @ ident) # matrix multiplication, or np.dot()\n",
    "print(some_ints * 3)     # multiplication by a scalar"
   ]
  },
  {
   "cell_type": "code",
   "execution_count": 5,
   "metadata": {},
   "outputs": [
    {
     "name": "stdout",
     "output_type": "stream",
     "text": [
      "[[1 2]\n",
      " [3 4]]\n",
      "10\n",
      "[4 6]\n",
      "[3 7]\n",
      "[3 7]\n"
     ]
    }
   ],
   "source": [
    "print(some_ints)\n",
    "print(some_ints.sum())\n",
    "print(some_ints.sum(axis=0))\n",
    "print(some_ints.sum(axis=1))\n",
    "print(np.sum(some_ints, axis=1))"
   ]
  },
  {
   "cell_type": "code",
   "execution_count": 6,
   "metadata": {},
   "outputs": [
    {
     "name": "stdout",
     "output_type": "stream",
     "text": [
      "[[3 5]\n",
      " [7 9]]\n",
      "int64\n"
     ]
    }
   ],
   "source": [
    "def double_plus_single(x):\n",
    "    return 2*x + 1\n",
    "\n",
    "# double_plus_single = np.vectorize(double_plus_single, otypes=[np.float])\n",
    "res = double_plus_single(some_ints)\n",
    "print(res)\n",
    "print(res.dtype)"
   ]
  },
  {
   "cell_type": "code",
   "execution_count": 7,
   "metadata": {},
   "outputs": [
    {
     "name": "stdout",
     "output_type": "stream",
     "text": [
      "[[ 1  4]\n",
      " [ 9 16]]\n",
      "[[ 7 10]\n",
      " [15 22]]\n"
     ]
    }
   ],
   "source": [
    "def dot(x):\n",
    "    return np.dot(x, x)\n",
    "\n",
    "dot = np.vectorize(dot, otypes=[np.int])\n",
    "res = dot(some_ints)\n",
    "print(res)\n",
    "print(np.dot(some_ints, some_ints))"
   ]
  },
  {
   "cell_type": "code",
   "execution_count": 8,
   "metadata": {},
   "outputs": [
    {
     "name": "stdout",
     "output_type": "stream",
     "text": [
      "[[0. 0. 0. 0.]\n",
      " [0. 0. 0. 0.]\n",
      " [0. 0. 0. 0.]]\n",
      "[[0. 0.]\n",
      " [0. 0.]\n",
      " [0. 0.]\n",
      " [0. 0.]\n",
      " [0. 0.]\n",
      " [0. 0.]]\n",
      "[[0. 0.]\n",
      " [0. 0.]\n",
      " [0. 0.]\n",
      " [0. 0.]\n",
      " [0. 0.]\n",
      " [0. 0.]]\n",
      "[[0. 0.]\n",
      " [0. 0.]\n",
      " [0. 0.]\n",
      " [0. 0.]\n",
      " [0. 0.]\n",
      " [0. 0.]]\n",
      "[[0.19529354 0.68308914 0.81697882]\n",
      " [0.34358369 0.46951555 0.48980384]]\n",
      "[[0.57666901 0.99996955 0.30451517]\n",
      " [0.61940397 0.74419488 0.15092259]]\n"
     ]
    }
   ],
   "source": [
    "a1a = np.zeros((3, 4))\n",
    "print(a1a)\n",
    "# a1b = np.zeros(2, 3) # error: must be a tuple\n",
    "\n",
    "a2a = a1a.reshape((6, 2))\n",
    "print(a2a)\n",
    "a2b = a1a.reshape(6, 2)\n",
    "print(a2b)\n",
    "a2c = np.reshape(a1a, (6, 2))\n",
    "print(a2c)\n",
    "# a2d = np.reshape(a1a, 6, 2) # error: 2 is some other parameter\n",
    "\n",
    "a3a = np.random.rand(2, 3)\n",
    "print(a3a)\n",
    "#a3b = np.random.rand((2, 3)) # error: can't be a tuple\n",
    "a3c = np.random.random((2, 3))\n",
    "print(a3c)\n",
    "# a3d = np.random.random(2, 3) # error: must be a tuple"
   ]
  },
  {
   "cell_type": "code",
   "execution_count": 9,
   "metadata": {},
   "outputs": [],
   "source": [
    "import pandas as pd"
   ]
  },
  {
   "cell_type": "code",
   "execution_count": 10,
   "metadata": {},
   "outputs": [
    {
     "name": "stdout",
     "output_type": "stream",
     "text": [
      "   value   word\n",
      "0      1    one\n",
      "1      2    two\n",
      "2      3  three\n",
      "3      4   four\n",
      "   value   word  double\n",
      "0      1    one       2\n",
      "1      2    two       4\n",
      "2      3  three       6\n",
      "3      4   four       8\n",
      "   value  word  double\n",
      "1      2   two       4\n",
      "3      4  four       8\n"
     ]
    }
   ],
   "source": [
    "df = pd.DataFrame(\n",
    "    {\n",
    "        'value': [1, 2, 3, 4],\n",
    "        'word': ['one', 'two', 'three', 'four']\n",
    "    }\n",
    ")\n",
    "print(df)\n",
    "df['double'] = df['value'] * 2\n",
    "print(df)\n",
    "print(df[df['value'] % 2 == 0])"
   ]
  },
  {
   "cell_type": "code",
   "execution_count": 11,
   "metadata": {},
   "outputs": [
    {
     "name": "stdout",
     "output_type": "stream",
     "text": [
      "   value   word  double french\n",
      "0      1    one       2     un\n",
      "1      2    two       4   deux\n",
      "2      3  three       6  trois\n",
      "3      4   four       8    NaN\n"
     ]
    }
   ],
   "source": [
    "french_words = pd.Series(\n",
    "    ['trois', 'deux', 'un'],\n",
    "    index=[2, 1, 0]\n",
    ")\n",
    "df['french'] = french_words\n",
    "print(df)"
   ]
  },
  {
   "cell_type": "code",
   "execution_count": 12,
   "metadata": {},
   "outputs": [
    {
     "name": "stdout",
     "output_type": "stream",
     "text": [
      "           population     area\n",
      "city                          \n",
      "Vancouver     2463431  2878.52\n",
      "Calgary       1392609  5110.21\n",
      "Toronto       5928040  5905.71\n"
     ]
    }
   ],
   "source": [
    "cities = pd.DataFrame(\n",
    "  [[2463431, 2878.52], [1392609, 5110.21], [5928040, 5905.71]],\n",
    "  columns=['population', 'area'],\n",
    "  index=pd.Index(['Vancouver','Calgary','Toronto'], name='city')\n",
    ")\n",
    "print(cities)"
   ]
  },
  {
   "cell_type": "code",
   "execution_count": 13,
   "metadata": {},
   "outputs": [
    {
     "name": "stdout",
     "output_type": "stream",
     "text": [
      "           population     area      density  pop-rank   something\n",
      "city                                                             \n",
      "Vancouver     2463431  2878.52   855.797771       2.0   4926863.0\n",
      "Calgary       1392609  5110.21   272.515024       3.0   2785219.0\n",
      "Toronto       5928040  5905.71  1003.781086       1.0  11856081.0\n"
     ]
    }
   ],
   "source": [
    "def double_plus(x):\n",
    "    return 2*x + 1\n",
    "double_plus = np.vectorize(double_plus, otypes=[np.float])\n",
    "\n",
    "cities['density'] = cities['population'] / cities['area']\n",
    "cities['pop-rank'] = cities['population'].rank(ascending=False)\n",
    "cities['something'] = double_plus(cities['population'])\n",
    "print(cities)"
   ]
  },
  {
   "cell_type": "code",
   "execution_count": 14,
   "metadata": {},
   "outputs": [
    {
     "name": "stdout",
     "output_type": "stream",
     "text": [
      "               city  population     area      density\n",
      "pop-rank                                             \n",
      "1.0         Toronto     5928040  5905.71  1003.781086\n",
      "2.0       Vancouver     2463431  2878.52   855.797771\n",
      "3.0         Calgary     1392609  5110.21   272.515024\n"
     ]
    }
   ],
   "source": [
    "del cities['something']\n",
    "cities = cities.reset_index()\n",
    "cities = cities.set_index('pop-rank')\n",
    "cities.sort_values(by = 'pop-rank', inplace = True)\n",
    "print(cities)"
   ]
  },
  {
   "cell_type": "markdown",
   "metadata": {},
   "source": [
    "# Lec 4"
   ]
  },
  {
   "cell_type": "code",
   "execution_count": 15,
   "metadata": {},
   "outputs": [
    {
     "name": "stdout",
     "output_type": "stream",
     "text": [
      "                                     title\n",
      "rating                                    \n",
      "8.93                          Intouchables\n",
      "8.67                          Garden State\n",
      "8.60                     Dog Day Afternoon\n",
      "8.50                        Mrs. Doubtfire\n",
      "8.44                           Man on Fire\n",
      "8.44                             El cuerpo\n",
      "8.40                The Life of David Gale\n",
      "8.33                    Dead Poets Society\n",
      "8.20                            Real Steel\n",
      "8.20                           Poltergeist\n",
      "8.17                     War of the Worlds\n",
      "8.14                            Detachment\n",
      "8.12                     Dial M for Murder\n",
      "8.00                                Vaiana\n",
      "8.00                         Love Actually\n",
      "8.00                  Jûsan-nin no shikaku\n",
      "7.92                        A Time to Kill\n",
      "7.83                        Wreck-It Ralph\n",
      "7.59                         Me Before You\n",
      "7.57                            Maleficent\n",
      "7.55                Much Ado About Nothing\n",
      "7.50                     God Bless America\n",
      "7.50                             Anomalisa\n",
      "7.50                              Sunshine\n",
      "7.27                       Pitch Perfect 2\n",
      "7.23                              Non-Stop\n",
      "7.21                 Shaun the Sheep Movie\n",
      "7.18                      28 Days Later...\n",
      "7.17                               Macbeth\n",
      "7.12                   The End of the Tour\n",
      "7.07                               Everest\n",
      "6.88                  Central Intelligence\n",
      "6.88                Everybody Wants Some!!\n",
      "6.67                            Sightseers\n",
      "6.67    Madagascar 3: Europe's Most Wanted\n",
      "6.50                       P.S. I Love You\n",
      "6.36                              Why Him?\n",
      "6.23                I Spit on Your Grave 2\n",
      "6.20                           Tower Heist\n",
      "6.12                    Heaven Is for Real\n",
      "6.00                         Welcome to Me\n",
      "5.95        House at the End of the Street\n",
      "5.89                         To the Wonder\n",
      "5.86                     Maps to the Stars\n",
      "5.60                Paul Blart: Mall Cop 2\n",
      "5.50                      Hitman: Agent 47\n",
      "5.35          Neighbors 2: Sorority Rising\n",
      "5.19                     Texas Chainsaw 3D\n",
      "5.00              Tyler Perry's Temptation\n"
     ]
    }
   ],
   "source": [
    "city_data = pd.read_csv('output.csv', index_col='rating')\n",
    "city_data.sort_values(by = 'rating', inplace = True, ascending = False)\n",
    "print(city_data)"
   ]
  },
  {
   "cell_type": "code",
   "execution_count": 34,
   "metadata": {},
   "outputs": [
    {
     "data": {
      "text/html": [
       "<div>\n",
       "<style scoped>\n",
       "    .dataframe tbody tr th:only-of-type {\n",
       "        vertical-align: middle;\n",
       "    }\n",
       "\n",
       "    .dataframe tbody tr th {\n",
       "        vertical-align: top;\n",
       "    }\n",
       "\n",
       "    .dataframe thead th {\n",
       "        text-align: right;\n",
       "    }\n",
       "</style>\n",
       "<table border=\"1\" class=\"dataframe\">\n",
       "  <thead>\n",
       "    <tr style=\"text-align: right;\">\n",
       "      <th></th>\n",
       "      <th>col 1</th>\n",
       "      <th>col 2</th>\n",
       "    </tr>\n",
       "    <tr>\n",
       "      <th>index</th>\n",
       "      <th></th>\n",
       "      <th></th>\n",
       "    </tr>\n",
       "  </thead>\n",
       "  <tbody>\n",
       "    <tr>\n",
       "      <th>row 1</th>\n",
       "      <td>a</td>\n",
       "      <td>b</td>\n",
       "    </tr>\n",
       "    <tr>\n",
       "      <th>row 2</th>\n",
       "      <td>c</td>\n",
       "      <td>d</td>\n",
       "    </tr>\n",
       "  </tbody>\n",
       "</table>\n",
       "</div>"
      ],
      "text/plain": [
       "      col 1 col 2\n",
       "index            \n",
       "row 1     a     b\n",
       "row 2     c     d"
      ]
     },
     "execution_count": 34,
     "metadata": {},
     "output_type": "execute_result"
    }
   ],
   "source": [
    "df = pd.DataFrame([['a', 'b'], ['c', 'd']],\n",
    "          index=pd.Index(['row 1', 'row 2'], name = 'index'),\n",
    "         columns=['col 1', 'col 2'])\n",
    "df"
   ]
  },
  {
   "cell_type": "code",
   "execution_count": 17,
   "metadata": {},
   "outputs": [
    {
     "name": "stdout",
     "output_type": "stream",
     "text": [
      "{\"col 1\":\"a\",\"col 2\":\"b\"}\n",
      "{\"col 1\":\"c\",\"col 2\":\"d\"}\n"
     ]
    }
   ],
   "source": [
    "print(df.to_json(orient='records', lines=True))"
   ]
  },
  {
   "cell_type": "code",
   "execution_count": 35,
   "metadata": {},
   "outputs": [
    {
     "name": "stdout",
     "output_type": "stream",
     "text": [
      "           population     area\n",
      "city                          \n",
      "Vancouver     2463431  2878.52\n",
      "Vancouver     1392609  5110.21\n",
      "Toronto       5928040  5905.71\n"
     ]
    },
    {
     "data": {
      "text/html": [
       "<div>\n",
       "<style scoped>\n",
       "    .dataframe tbody tr th:only-of-type {\n",
       "        vertical-align: middle;\n",
       "    }\n",
       "\n",
       "    .dataframe tbody tr th {\n",
       "        vertical-align: top;\n",
       "    }\n",
       "\n",
       "    .dataframe thead th {\n",
       "        text-align: right;\n",
       "    }\n",
       "</style>\n",
       "<table border=\"1\" class=\"dataframe\">\n",
       "  <thead>\n",
       "    <tr style=\"text-align: right;\">\n",
       "      <th></th>\n",
       "      <th>city</th>\n",
       "      <th>population</th>\n",
       "      <th>area</th>\n",
       "    </tr>\n",
       "  </thead>\n",
       "  <tbody>\n",
       "    <tr>\n",
       "      <th>0</th>\n",
       "      <td>Toronto</td>\n",
       "      <td>5928040</td>\n",
       "      <td>5905.71</td>\n",
       "    </tr>\n",
       "    <tr>\n",
       "      <th>1</th>\n",
       "      <td>Vancouver</td>\n",
       "      <td>3856040</td>\n",
       "      <td>7988.73</td>\n",
       "    </tr>\n",
       "  </tbody>\n",
       "</table>\n",
       "</div>"
      ],
      "text/plain": [
       "        city  population     area\n",
       "0    Toronto     5928040  5905.71\n",
       "1  Vancouver     3856040  7988.73"
      ]
     },
     "execution_count": 35,
     "metadata": {},
     "output_type": "execute_result"
    }
   ],
   "source": [
    "cities = pd.DataFrame(\n",
    "  [[2463431, 2878.52], [1392609, 5110.21], [5928040, 5905.71]],\n",
    "  columns=['population', 'area'],\n",
    "  index=pd.Index(['Vancouver','Vancouver','Toronto'], name='city')\n",
    ")\n",
    "print(cities)\n",
    "result = cities.groupby(['city']).agg('sum').reset_index()\n",
    "result"
   ]
  },
  {
   "cell_type": "code",
   "execution_count": 27,
   "metadata": {},
   "outputs": [
    {
     "data": {
      "text/html": [
       "<div>\n",
       "<style scoped>\n",
       "    .dataframe tbody tr th:only-of-type {\n",
       "        vertical-align: middle;\n",
       "    }\n",
       "\n",
       "    .dataframe tbody tr th {\n",
       "        vertical-align: top;\n",
       "    }\n",
       "\n",
       "    .dataframe thead th {\n",
       "        text-align: right;\n",
       "    }\n",
       "</style>\n",
       "<table border=\"1\" class=\"dataframe\">\n",
       "  <thead>\n",
       "    <tr style=\"text-align: right;\">\n",
       "      <th></th>\n",
       "      <th></th>\n",
       "      <th>integer</th>\n",
       "    </tr>\n",
       "    <tr>\n",
       "      <th>group</th>\n",
       "      <th>words</th>\n",
       "      <th></th>\n",
       "    </tr>\n",
       "  </thead>\n",
       "  <tbody>\n",
       "    <tr>\n",
       "      <th rowspan=\"2\" valign=\"top\">group1</th>\n",
       "      <th>one</th>\n",
       "      <td>1</td>\n",
       "    </tr>\n",
       "    <tr>\n",
       "      <th>three</th>\n",
       "      <td>3</td>\n",
       "    </tr>\n",
       "    <tr>\n",
       "      <th rowspan=\"2\" valign=\"top\">group2</th>\n",
       "      <th>four</th>\n",
       "      <td>4</td>\n",
       "    </tr>\n",
       "    <tr>\n",
       "      <th>two</th>\n",
       "      <td>2</td>\n",
       "    </tr>\n",
       "  </tbody>\n",
       "</table>\n",
       "</div>"
      ],
      "text/plain": [
       "              integer\n",
       "group  words         \n",
       "group1 one          1\n",
       "       three        3\n",
       "group2 four         4\n",
       "       two          2"
      ]
     },
     "execution_count": 27,
     "metadata": {},
     "output_type": "execute_result"
    }
   ],
   "source": [
    "df = pd.DataFrame({'integer': [1, 2, 3, 4], \n",
    "                   'words': ['one', 'two', 'three', 'four'], \n",
    "                   'group': ['group1', 'group2', 'group1', 'group2']})\n",
    "df.index.name = 'index'\n",
    "df = df.groupby(['group', 'words']).agg('sum')\n",
    "df"
   ]
  },
  {
   "cell_type": "code",
   "execution_count": null,
   "metadata": {},
   "outputs": [],
   "source": []
  }
 ],
 "metadata": {
  "kernelspec": {
   "display_name": "Python 3",
   "language": "python",
   "name": "python3"
  },
  "language_info": {
   "codemirror_mode": {
    "name": "ipython",
    "version": 3
   },
   "file_extension": ".py",
   "mimetype": "text/x-python",
   "name": "python",
   "nbconvert_exporter": "python",
   "pygments_lexer": "ipython3",
   "version": "3.7.4"
  }
 },
 "nbformat": 4,
 "nbformat_minor": 2
}
